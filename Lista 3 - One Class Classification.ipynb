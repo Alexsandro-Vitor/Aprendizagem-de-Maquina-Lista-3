{
 "cells": [
  {
   "cell_type": "markdown",
   "metadata": {},
   "source": [
    "# Código One Class Classification"
   ]
  },
  {
   "cell_type": "markdown",
   "metadata": {},
   "source": [
    "## Imports"
   ]
  },
  {
   "cell_type": "code",
   "execution_count": 42,
   "metadata": {},
   "outputs": [],
   "source": [
    "from sklearn.neighbors import NearestNeighbors\n",
    "import numpy as np\n",
    "import numpy.linalg as LA\n",
    "from functools import reduce"
   ]
  },
  {
   "cell_type": "markdown",
   "metadata": {},
   "source": [
    "## Funções de Suporte"
   ]
  },
  {
   "cell_type": "markdown",
   "metadata": {},
   "source": [
    "## K-distance"
   ]
  },
  {
   "cell_type": "code",
   "execution_count": 211,
   "metadata": {},
   "outputs": [],
   "source": [
    "class KDistance:\n",
    "    def __init__(self, k = 3, label = 0):\n",
    "        self.k = k\n",
    "        self.label = label\n",
    "        self.nn = NearestNeighbors()\n",
    "    \n",
    "    def train(self, training):\n",
    "        self.samples = training\n",
    "        self.nn.fit(self.samples)\n",
    "        self.distances, _ = self.nn.kneighbors(n_neighbors=len(self.samples)-1)\n",
    "        #print(self.distances)\n",
    "        #print(self.distances[:, self.k-1])\n",
    "        #print()\n",
    "    \n",
    "    def predict(self, samples):\n",
    "        distances, closest = self.nn.kneighbors(X = samples, n_neighbors=self.k)\n",
    "        distances_closest = self.distances[closest, self.k-1]\n",
    "        return np.less_equal(distances, distances_closest).all(axis=1)\n",
    "    \n",
    "    def test(self, testing):\n",
    "        samples = testing[:, 0:-1]\n",
    "        labels = testing[:, -1] == self.label\n",
    "        predicted_labels = self.predict(samples)\n",
    "        result = KDistance.calculate_test_results(labels, predicted_labels)\n",
    "        return result\n",
    "    \n",
    "    @staticmethod\n",
    "    def calculate_test_results(labels, predicted):\n",
    "        print(labels)\n",
    "        print(predicted)\n",
    "        \n",
    "        unique, counts = np.unique(np.logical_and(labels, predicted), return_counts=True)\n",
    "        true_pos = counts[np.where(unique == True)][0] if True in unique else 0\n",
    "        print(true_pos)\n",
    "        \n",
    "        unique, counts = np.unique(np.logical_and(np.logical_not(labels), predicted), return_counts=True)\n",
    "        false_pos = counts[np.where(unique == True)][0] if True in unique else 0\n",
    "        print(false_pos)\n",
    "        \n",
    "        unique, counts = np.unique(np.logical_and(labels, np.logical_not(predicted)), return_counts=True)\n",
    "        false_neg = counts[np.where(unique == True)][0] if True in unique else 0\n",
    "        print(false_neg)\n",
    "        \n",
    "        precision = true_pos / (true_pos + false_pos)\n",
    "        recall = true_pos / (true_pos + false_neg)\n",
    "        \n",
    "        return {\n",
    "            \"true_pos\": true_pos,\n",
    "            \"false_pos\": false_pos,\n",
    "            \"f1\": 2 * precision * recall / (precision + recall)\n",
    "        }"
   ]
  },
  {
   "cell_type": "code",
   "execution_count": 212,
   "metadata": {},
   "outputs": [
    {
     "name": "stdout",
     "output_type": "stream",
     "text": [
      "[ True False]\n",
      "[ True  True]\n",
      "1\n",
      "1\n",
      "0\n",
      "0.5\n",
      "1.0\n"
     ]
    },
    {
     "data": {
      "text/plain": [
       "{'true_pos': 1, 'false_pos': 1, 'f1': 0.6666666666666666}"
      ]
     },
     "execution_count": 212,
     "metadata": {},
     "output_type": "execute_result"
    }
   ],
   "source": [
    "kdist = KDistance()\n",
    "kdist.train(np.array([[-1, -1], [-2, -1], [-3, -2], [1, 1], [2, 1], [3, 2]]))\n",
    "#print(kdist.predict(np.array([[0, 0], [0, 5]])))\n",
    "kdist.test(np.array([[0, 0, 0], [0, 1, 1]]))"
   ]
  },
  {
   "cell_type": "markdown",
   "metadata": {},
   "source": [
    "# Testes"
   ]
  },
  {
   "cell_type": "markdown",
   "metadata": {},
   "source": [
    "## Base de Dados 1 -"
   ]
  },
  {
   "cell_type": "markdown",
   "metadata": {},
   "source": [
    "### Preparação"
   ]
  },
  {
   "cell_type": "markdown",
   "metadata": {},
   "source": [
    "### Execução"
   ]
  },
  {
   "cell_type": "markdown",
   "metadata": {},
   "source": [
    "### Resultados"
   ]
  },
  {
   "cell_type": "markdown",
   "metadata": {},
   "source": [
    "## Base de Dados 2 -"
   ]
  },
  {
   "cell_type": "markdown",
   "metadata": {},
   "source": [
    "### Preparação"
   ]
  },
  {
   "cell_type": "markdown",
   "metadata": {},
   "source": [
    "### Execução"
   ]
  },
  {
   "cell_type": "markdown",
   "metadata": {},
   "source": [
    "### Resultados"
   ]
  },
  {
   "cell_type": "code",
   "execution_count": null,
   "metadata": {},
   "outputs": [],
   "source": []
  }
 ],
 "metadata": {
  "kernelspec": {
   "display_name": "redesNeurais",
   "language": "python",
   "name": "redesneurais"
  },
  "language_info": {
   "codemirror_mode": {
    "name": "ipython",
    "version": 3
   },
   "file_extension": ".py",
   "mimetype": "text/x-python",
   "name": "python",
   "nbconvert_exporter": "python",
   "pygments_lexer": "ipython3",
   "version": "3.6.8"
  }
 },
 "nbformat": 4,
 "nbformat_minor": 2
}
