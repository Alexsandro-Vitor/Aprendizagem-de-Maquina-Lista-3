{
 "cells": [
  {
   "cell_type": "markdown",
   "metadata": {},
   "source": [
    "# Código One Class Classification"
   ]
  },
  {
   "cell_type": "markdown",
   "metadata": {},
   "source": [
    "## Imports"
   ]
  },
  {
   "cell_type": "code",
   "execution_count": 38,
   "metadata": {},
   "outputs": [],
   "source": [
    "from sklearn.neighbors import NearestNeighbors\n",
    "import numpy as np\n",
    "import numpy.linalg as LA\n",
    "from functools import reduce"
   ]
  },
  {
   "cell_type": "markdown",
   "metadata": {},
   "source": [
    "## Funções de Suporte"
   ]
  },
  {
   "cell_type": "markdown",
   "metadata": {},
   "source": [
    "## K-distance\n",
    "\n",
    "Este algoritmo é o que foi proposto na questão da prova correspondente a esta lista.\n",
    "Para classificar uma amostra, são calculados os k pontos (amostras do treinamento) mais próximos e em seguida, para cada um deles é calculada a distância do k-ésimo ponto mais próximo dele. Para pertencer à mesma classe dos pontos, a distância entre a amostra e cada um deles deve ser menor ou igual à distância do k-ésimo ponto mais próximo de cada na maioria dos casos."
   ]
  },
  {
   "cell_type": "code",
   "execution_count": 39,
   "metadata": {},
   "outputs": [],
   "source": [
    "class KDistance:\n",
    "    def __init__(self, k = 3, label = 0, positive = False):\n",
    "        self.k = k\n",
    "        self.nn = NearestNeighbors()\n",
    "        self.label = label\n",
    "        self.positive = positive\n",
    "    \n",
    "    def train(self, training):\n",
    "        self.samples = training\n",
    "        self.nn.fit(self.samples)\n",
    "        self.distances = self.nn.kneighbors(n_neighbors=self.k)[0][:,-1]\n",
    "        #print(self.distances)\n",
    "    \n",
    "    def predict(self, samples):\n",
    "        def count_true(array):\n",
    "            unique, counts = np.unique(array, return_counts=True)\n",
    "            return counts[np.where(unique == True)][0] if True in unique else 0\n",
    "            \n",
    "        distances, closest = self.nn.kneighbors(X = samples, n_neighbors=self.k)\n",
    "        distances_closest = self.distances[closest]\n",
    "        #print(distances)\n",
    "        #print(distances_closest)\n",
    "        #print(np.less_equal(distances, distances_closest))\n",
    "        votes = np.less_equal(distances, distances_closest)\n",
    "        \n",
    "        return np.array([(count_true(i) << 1) >= self.k for i in votes])\n",
    "        #return np.less_equal(distances, distances_closest).all(axis=1)\n",
    "    \n",
    "    def test(self, testing):\n",
    "        samples = testing[:, :-1]\n",
    "        labels = (testing[:, -1] == self.label) == self.positive\n",
    "        predicted_labels = self.predict(samples) == self.positive\n",
    "        result = KDistance.calculate_test_results(labels, predicted_labels)\n",
    "        return result\n",
    "    \n",
    "    @staticmethod\n",
    "    def calculate_test_results(labels, predicted):\n",
    "        #print(labels)\n",
    "        #print(predicted)\n",
    "        \n",
    "        unique, counts = np.unique(np.logical_and(labels, predicted), return_counts=True)\n",
    "        true_pos = counts[np.where(unique == True)][0] if True in unique else 0\n",
    "        #print(true_pos)\n",
    "        \n",
    "        unique, counts = np.unique(np.logical_and(np.logical_not(labels), predicted), return_counts=True)\n",
    "        false_pos = counts[np.where(unique == True)][0] if True in unique else 0\n",
    "        #print(false_pos)\n",
    "        \n",
    "        unique, counts = np.unique(np.logical_and(labels, np.logical_not(predicted)), return_counts=True)\n",
    "        false_neg = counts[np.where(unique == True)][0] if True in unique else 0\n",
    "        #print(false_neg)\n",
    "        \n",
    "        precision = true_pos / (true_pos + false_pos) if (true_pos + false_pos) > 0 else 0\n",
    "        #print(precision)\n",
    "        recall = true_pos / (true_pos + false_neg) if (true_pos + false_neg) > 0 else 0\n",
    "        #print(recall)\n",
    "        \n",
    "        return {\n",
    "            \"true_pos\": true_pos / len(labels),\n",
    "            \"false_pos\": false_pos / len(labels),\n",
    "            \"f1\": 2 * precision * recall / (precision + recall) if (precision + recall) > 0 else 0\n",
    "        }"
   ]
  },
  {
   "cell_type": "code",
   "execution_count": 40,
   "metadata": {},
   "outputs": [
    {
     "data": {
      "text/plain": [
       "{'true_pos': 0.25, 'false_pos': 0.0, 'f1': 0.5}"
      ]
     },
     "execution_count": 40,
     "metadata": {},
     "output_type": "execute_result"
    }
   ],
   "source": [
    "kdist = KDistance()\n",
    "kdist.train(np.array([[-1, -1], [-2, -1], [-3, -2], [1, 1], [2, 1], [3, 2]]))\n",
    "#print(kdist.predict(np.array([[0, 0], [0, 5]])))\n",
    "kdist.test(np.array([[0, 0, 0], [0, 3, 1], [0, 4, 1], [0, 5, 1]]))"
   ]
  },
  {
   "cell_type": "markdown",
   "metadata": {},
   "source": [
    "# Avaliações"
   ]
  },
  {
   "cell_type": "markdown",
   "metadata": {},
   "source": [
    "## Imports"
   ]
  },
  {
   "cell_type": "code",
   "execution_count": 41,
   "metadata": {},
   "outputs": [],
   "source": [
    "%matplotlib inline\n",
    "\n",
    "from scipy.io import arff\n",
    "import pandas as pd\n",
    "from time import process_time\n",
    "\n",
    "import matplotlib\n",
    "import matplotlib.pyplot as plt\n",
    "from statistics import mean"
   ]
  },
  {
   "cell_type": "markdown",
   "metadata": {},
   "source": [
    "## Funções para o experimento"
   ]
  },
  {
   "cell_type": "code",
   "execution_count": 42,
   "metadata": {},
   "outputs": [],
   "source": [
    "def k_fold(sepSamples, k):\n",
    "    '''Splits the samples in k groups with similar amounts of samples and distributions of every class.'''\n",
    "    folds = [[None, None] for _ in range(k)]\n",
    "    splitClass = [None, None]\n",
    "    splitClass[0] = np.array_split(sepSamples[0], k)\n",
    "    splitClass[1] = np.array_split(sepSamples[1], k)\n",
    "    for a in range(k):\n",
    "        folds[a][0] = splitClass[0][a]\n",
    "        folds[a][1] = splitClass[1][a]\n",
    "    return folds"
   ]
  },
  {
   "cell_type": "code",
   "execution_count": 43,
   "metadata": {},
   "outputs": [],
   "source": [
    "def cross_validation(machine, folds):\n",
    "    '''Evaluates a machine through cross-validation.'''\n",
    "    true_pos = []\n",
    "    false_pos = []\n",
    "    f1 = []\n",
    "    train_times = []\n",
    "    test_times = []\n",
    "    for i in range(len(folds)):\n",
    "        print(\"Testing on fold \" + str(i))\n",
    "        train_folds = [fold[0] for f, fold in enumerate(folds) if i != f]\n",
    "        train = np.concatenate(train_folds)[:,:-1]\n",
    "        test = np.concatenate((folds[i][0], folds[i][1]))\n",
    "        \n",
    "        train_times.append(process_time())\n",
    "        machine.train(train)\n",
    "        train_times[-1] = process_time() - train_times[-1]\n",
    "\n",
    "        test_times.append(process_time())\n",
    "        test_results = machine.test(test)\n",
    "        test_times[-1] = process_time() - test_times[-1]\n",
    "\n",
    "        true_pos.append(test_results['true_pos'])\n",
    "        false_pos.append(test_results['false_pos'])\n",
    "        f1.append(test_results['f1'])\n",
    "    return {\n",
    "        'true_pos': true_pos,\n",
    "        'false_pos': false_pos,\n",
    "        'f1': f1,\n",
    "        'train_times': train_times,\n",
    "        'test_times': test_times\n",
    "    }"
   ]
  },
  {
   "cell_type": "code",
   "execution_count": 44,
   "metadata": {},
   "outputs": [],
   "source": [
    "def experiment(machine, folds, kVariations = [1, 2, 3, 5, 7, 9, 11, 13, 15]):\n",
    "    '''The code which will run the experiment.'''\n",
    "    result = {}\n",
    "    for i in kVariations:\n",
    "        print('Parameter k = ' + str(i))\n",
    "        machine.k = i\n",
    "        result[i] = cross_validation(machine, folds)\n",
    "    return result"
   ]
  },
  {
   "cell_type": "markdown",
   "metadata": {},
   "source": [
    "## Base de Dados 1 - CM1"
   ]
  },
  {
   "cell_type": "markdown",
   "metadata": {},
   "source": [
    "### Preparação"
   ]
  },
  {
   "cell_type": "code",
   "execution_count": 45,
   "metadata": {},
   "outputs": [],
   "source": [
    "data = arff.loadarff('Datasets/cm1.arff')\n",
    "dataFrame = pd.DataFrame(data[0])\n",
    "dataFrame.defects = [1 if i == b'true' else 0 for i in dataFrame.defects]\n",
    "rawData = dataFrame.values\n",
    "#rawData"
   ]
  },
  {
   "cell_type": "code",
   "execution_count": 46,
   "metadata": {},
   "outputs": [],
   "source": [
    "# Separating samples by class\n",
    "classes = [None, None]\n",
    "classes[0] = rawData[np.where(rawData[:,-1] == 0)]\n",
    "classes[1] = rawData[np.where(rawData[:,-1] == 1)]\n",
    "#classes"
   ]
  },
  {
   "cell_type": "code",
   "execution_count": 47,
   "metadata": {},
   "outputs": [],
   "source": [
    "# Separating the folds\n",
    "folds = k_fold(classes, k = 5)\n",
    "#folds"
   ]
  },
  {
   "cell_type": "markdown",
   "metadata": {},
   "source": [
    "### Execução"
   ]
  },
  {
   "cell_type": "code",
   "execution_count": 48,
   "metadata": {},
   "outputs": [
    {
     "name": "stdout",
     "output_type": "stream",
     "text": [
      "Parameter k = 1\n",
      "Testing on fold 0\n",
      "Testing on fold 1\n",
      "Testing on fold 2\n",
      "Testing on fold 3\n",
      "Testing on fold 4\n",
      "Parameter k = 2\n",
      "Testing on fold 0\n",
      "Testing on fold 1\n",
      "Testing on fold 2\n",
      "Testing on fold 3\n",
      "Testing on fold 4\n",
      "Parameter k = 3\n",
      "Testing on fold 0\n",
      "Testing on fold 1\n",
      "Testing on fold 2\n",
      "Testing on fold 3\n",
      "Testing on fold 4\n",
      "Parameter k = 5\n",
      "Testing on fold 0\n",
      "Testing on fold 1\n",
      "Testing on fold 2\n",
      "Testing on fold 3\n",
      "Testing on fold 4\n",
      "Parameter k = 7\n",
      "Testing on fold 0\n",
      "Testing on fold 1\n",
      "Testing on fold 2\n",
      "Testing on fold 3\n",
      "Testing on fold 4\n",
      "Parameter k = 9\n",
      "Testing on fold 0\n",
      "Testing on fold 1\n",
      "Testing on fold 2\n",
      "Testing on fold 3\n",
      "Testing on fold 4\n",
      "Parameter k = 11\n",
      "Testing on fold 0\n",
      "Testing on fold 1\n",
      "Testing on fold 2\n",
      "Testing on fold 3\n",
      "Testing on fold 4\n",
      "Parameter k = 13\n",
      "Testing on fold 0\n",
      "Testing on fold 1\n",
      "Testing on fold 2\n",
      "Testing on fold 3\n",
      "Testing on fold 4\n",
      "Parameter k = 15\n",
      "Testing on fold 0\n",
      "Testing on fold 1\n",
      "Testing on fold 2\n",
      "Testing on fold 3\n",
      "Testing on fold 4\n"
     ]
    },
    {
     "data": {
      "text/plain": [
       "{1: {'true_pos': [0.06, 0.06, 0.04, 0.04, 0.02040816326530612],\n",
       "  'false_pos': [0.32, 0.55, 0.35, 0.4, 0.336734693877551],\n",
       "  'f1': [0.25,\n",
       "   0.16901408450704225,\n",
       "   0.163265306122449,\n",
       "   0.14814814814814814,\n",
       "   0.0909090909090909],\n",
       "  'train_times': [0.015625, 0.0, 0.0, 0.0, 0.0],\n",
       "  'test_times': [0.0, 0.015625, 0.0, 0.015625, 0.0]},\n",
       " 2: {'true_pos': [0.02, 0.03, 0.0, 0.01, 0.0],\n",
       "  'false_pos': [0.18, 0.28, 0.1, 0.19, 0.20408163265306123],\n",
       "  'f1': [0.13333333333333333, 0.14634146341463414, 0, 0.06666666666666667, 0],\n",
       "  'train_times': [0.0, 0.0, 0.0, 0.0, 0.0],\n",
       "  'test_times': [0.015625, 0.0, 0.015625, 0.0, 0.0]},\n",
       " 3: {'true_pos': [0.03, 0.04, 0.01, 0.01, 0.0],\n",
       "  'false_pos': [0.25, 0.37, 0.2, 0.32, 0.2653061224489796],\n",
       "  'f1': [0.15789473684210525,\n",
       "   0.15686274509803924,\n",
       "   0.06451612903225806,\n",
       "   0.04651162790697675,\n",
       "   0],\n",
       "  'train_times': [0.0, 0.0, 0.0, 0.0, 0.0],\n",
       "  'test_times': [0.0, 0.0, 0.015625, 0.0, 0.0]},\n",
       " 5: {'true_pos': [0.03, 0.04, 0.01, 0.01, 0.02040816326530612],\n",
       "  'false_pos': [0.15, 0.23, 0.08, 0.23, 0.21428571428571427],\n",
       "  'f1': [0.21428571428571427,\n",
       "   0.21621621621621623,\n",
       "   0.10526315789473685,\n",
       "   0.058823529411764705,\n",
       "   0.125],\n",
       "  'train_times': [0.015625, 0.0, 0.0, 0.0, 0.0],\n",
       "  'test_times': [0.0, 0.0, 0.015625, 0.0, 0.0]},\n",
       " 7: {'true_pos': [0.05, 0.05, 0.02, 0.01, 0.01020408163265306],\n",
       "  'false_pos': [0.18, 0.2, 0.06, 0.18, 0.12244897959183673],\n",
       "  'f1': [0.30303030303030304,\n",
       "   0.28571428571428575,\n",
       "   0.22222222222222224,\n",
       "   0.06896551724137931,\n",
       "   0.09090909090909093],\n",
       "  'train_times': [0.015625, 0.0, 0.0, 0.0, 0.0],\n",
       "  'test_times': [0.0, 0.0, 0.015625, 0.0, 0.015625]},\n",
       " 9: {'true_pos': [0.03, 0.04, 0.02, 0.01, 0.01020408163265306],\n",
       "  'false_pos': [0.11, 0.26, 0.05, 0.11, 0.09183673469387756],\n",
       "  'f1': [0.25,\n",
       "   0.2,\n",
       "   0.23529411764705882,\n",
       "   0.0909090909090909,\n",
       "   0.10526315789473685],\n",
       "  'train_times': [0.0, 0.0, 0.0, 0.0, 0.015625],\n",
       "  'test_times': [0.0, 0.015625, 0.015625, 0.0, 0.0]},\n",
       " 11: {'true_pos': [0.03, 0.05, 0.01, 0.01, 0.02040816326530612],\n",
       "  'false_pos': [0.05, 0.2, 0.04, 0.05, 0.07142857142857142],\n",
       "  'f1': [0.33333333333333326,\n",
       "   0.28571428571428575,\n",
       "   0.13333333333333333,\n",
       "   0.125,\n",
       "   0.2222222222222222],\n",
       "  'train_times': [0.0, 0.015625, 0.0, 0.015625, 0.0],\n",
       "  'test_times': [0.0, 0.0, 0.0, 0.0, 0.0]},\n",
       " 13: {'true_pos': [0.02, 0.05, 0.01, 0.01, 0.0],\n",
       "  'false_pos': [0.08, 0.14, 0.03, 0.11, 0.061224489795918366],\n",
       "  'f1': [0.20000000000000004,\n",
       "   0.3448275862068966,\n",
       "   0.14285714285714288,\n",
       "   0.0909090909090909,\n",
       "   0],\n",
       "  'train_times': [0.0, 0.0, 0.0, 0.0, 0.0],\n",
       "  'test_times': [0.015625, 0.015625, 0.0, 0.015625, 0.0]},\n",
       " 15: {'true_pos': [0.02, 0.03, 0.01, 0.01, 0.0],\n",
       "  'false_pos': [0.05, 0.1, 0.01, 0.06, 0.061224489795918366],\n",
       "  'f1': [0.23529411764705882,\n",
       "   0.2608695652173913,\n",
       "   0.16666666666666669,\n",
       "   0.11764705882352941,\n",
       "   0],\n",
       "  'train_times': [0.0, 0.0, 0.0, 0.0, 0.0],\n",
       "  'test_times': [0.015625, 0.0, 0.015625, 0.0, 0.0]}}"
      ]
     },
     "execution_count": 48,
     "metadata": {},
     "output_type": "execute_result"
    }
   ],
   "source": [
    "kdist = KDistance()\n",
    "cm1_results = experiment(kdist, folds)\n",
    "cm1_results"
   ]
  },
  {
   "cell_type": "markdown",
   "metadata": {},
   "source": [
    "### Resultados"
   ]
  },
  {
   "cell_type": "markdown",
   "metadata": {},
   "source": [
    "## Base de Dados 2 - JM1"
   ]
  },
  {
   "cell_type": "markdown",
   "metadata": {},
   "source": [
    "### Preparação"
   ]
  },
  {
   "cell_type": "code",
   "execution_count": 49,
   "metadata": {},
   "outputs": [],
   "source": [
    "data = arff.loadarff('Datasets/jm1.arff')\n",
    "dataFrame = pd.DataFrame(data[0])\n",
    "dataFrame.defects = [1 if i == b'true' else 0 for i in dataFrame.defects]\n",
    "rawData = dataFrame.values\n",
    "#rawData"
   ]
  },
  {
   "cell_type": "code",
   "execution_count": 50,
   "metadata": {},
   "outputs": [],
   "source": [
    "# Remove rows with nans on them\n",
    "def remove_nans(array):\n",
    "    return array[~np.any(np.isnan(array), axis=1)]\n",
    "rawData = remove_nans(rawData)"
   ]
  },
  {
   "cell_type": "code",
   "execution_count": 51,
   "metadata": {},
   "outputs": [],
   "source": [
    "# Separating samples by class\n",
    "classes = [None, None]\n",
    "classes[0] = rawData[np.where(rawData[:,-1] == 0)]\n",
    "classes[1] = rawData[np.where(rawData[:,-1] == 1)]\n",
    "#classes"
   ]
  },
  {
   "cell_type": "code",
   "execution_count": 52,
   "metadata": {},
   "outputs": [
    {
     "ename": "NameError",
     "evalue": "name 'k' is not defined",
     "output_type": "error",
     "traceback": [
      "\u001b[1;31m---------------------------------------------------------------------------\u001b[0m",
      "\u001b[1;31mNameError\u001b[0m                                 Traceback (most recent call last)",
      "\u001b[1;32m<ipython-input-52-daef416c3ba6>\u001b[0m in \u001b[0;36m<module>\u001b[1;34m\u001b[0m\n\u001b[0;32m      1\u001b[0m \u001b[1;31m# Separating the folds\u001b[0m\u001b[1;33m\u001b[0m\u001b[1;33m\u001b[0m\u001b[1;33m\u001b[0m\u001b[0m\n\u001b[1;32m----> 2\u001b[1;33m \u001b[0mfolds\u001b[0m \u001b[1;33m=\u001b[0m \u001b[0mk_fold\u001b[0m\u001b[1;33m(\u001b[0m\u001b[0mclasses\u001b[0m\u001b[1;33m,\u001b[0m \u001b[0mk\u001b[0m\u001b[1;33m)\u001b[0m\u001b[1;33m\u001b[0m\u001b[1;33m\u001b[0m\u001b[0m\n\u001b[0m\u001b[0;32m      3\u001b[0m \u001b[1;31m#folds\u001b[0m\u001b[1;33m\u001b[0m\u001b[1;33m\u001b[0m\u001b[1;33m\u001b[0m\u001b[0m\n",
      "\u001b[1;31mNameError\u001b[0m: name 'k' is not defined"
     ]
    }
   ],
   "source": [
    "# Separating the folds\n",
    "folds = k_fold(classes, k)\n",
    "#folds"
   ]
  },
  {
   "cell_type": "markdown",
   "metadata": {},
   "source": [
    "### Execução"
   ]
  },
  {
   "cell_type": "code",
   "execution_count": null,
   "metadata": {},
   "outputs": [],
   "source": [
    "kdist = KDistance()\n",
    "jm1_results = experiment(kdist, folds)\n",
    "jm1_results"
   ]
  },
  {
   "cell_type": "markdown",
   "metadata": {},
   "source": [
    "### Resultados"
   ]
  },
  {
   "cell_type": "code",
   "execution_count": null,
   "metadata": {},
   "outputs": [],
   "source": []
  }
 ],
 "metadata": {
  "kernelspec": {
   "display_name": "redesNeurais",
   "language": "python",
   "name": "redesneurais"
  },
  "language_info": {
   "codemirror_mode": {
    "name": "ipython",
    "version": 3
   },
   "file_extension": ".py",
   "mimetype": "text/x-python",
   "name": "python",
   "nbconvert_exporter": "python",
   "pygments_lexer": "ipython3",
   "version": "3.6.8"
  }
 },
 "nbformat": 4,
 "nbformat_minor": 2
}
